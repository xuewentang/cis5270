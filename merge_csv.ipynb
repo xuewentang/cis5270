{
 "cells": [
  {
   "cell_type": "code",
   "execution_count": 26,
   "metadata": {},
   "outputs": [],
   "source": [
    "import pandas as pd\n",
    "import os\n",
    "import seaborn as sns\n",
    "import matplotlib.pyplot as plt"
   ]
  },
  {
   "cell_type": "code",
   "execution_count": 27,
   "metadata": {},
   "outputs": [],
   "source": [
    "\n",
    "def merge_surveys(input_dir, output_dir):\n",
    "    if not os.path.exists(output_dir):\n",
    "        os.makedirs(output_dir)\n",
    "    \n",
    "    for survey_folder in os.listdir(input_dir):\n",
    "        survey_path = os.path.join(input_dir, survey_folder)\n",
    "        if os.path.isdir(survey_path):\n",
    "            merged_df = pd.DataFrame()\n",
    "            for file in os.listdir(survey_path):\n",
    "                file_path = os.path.join(survey_path, file)\n",
    "                if file.endswith('.csv'):\n",
    "                    df = pd.read_csv(file_path)\n",
    "                elif file.endswith('.xlsx'):\n",
    "                    df = pd.read_excel(file_path)\n",
    "                else:\n",
    "                    continue\n",
    "                merged_df = pd.concat([merged_df, df], ignore_index=True)\n",
    "            \n",
    "            merged_df.drop_duplicates(inplace=True)\n",
    "            output_file = os.path.join(output_dir, f\"{survey_folder}_merged.csv\")\n",
    "            merged_df.to_csv(output_file, index=False)\n",
    "\n",
    "input_directory = 'data'\n",
    "output_directory = 'output'\n",
    "merge_surveys(input_directory, output_directory)"
   ]
  },
  {
   "cell_type": "code",
   "execution_count": null,
   "metadata": {},
   "outputs": [],
   "source": []
  }
 ],
 "metadata": {
  "kernelspec": {
   "display_name": ".venv",
   "language": "python",
   "name": "python3"
  },
  "language_info": {
   "codemirror_mode": {
    "name": "ipython",
    "version": 3
   },
   "file_extension": ".py",
   "mimetype": "text/x-python",
   "name": "python",
   "nbconvert_exporter": "python",
   "pygments_lexer": "ipython3",
   "version": "3.12.5"
  }
 },
 "nbformat": 4,
 "nbformat_minor": 2
}
